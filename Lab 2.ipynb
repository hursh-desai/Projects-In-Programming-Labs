{
 "cells": [
  {
   "cell_type": "code",
   "execution_count": 1,
   "metadata": {},
   "outputs": [
    {
     "data": {
      "text/plain": [
       "{'coord': {'lon': -73.99, 'lat': 40.73},\n",
       " 'weather': [{'id': 501,\n",
       "   'main': 'Rain',\n",
       "   'description': 'moderate rain',\n",
       "   'icon': '10d'}],\n",
       " 'base': 'stations',\n",
       " 'main': {'temp': 43.86,\n",
       "  'feels_like': 37.51,\n",
       "  'temp_min': 41,\n",
       "  'temp_max': 46.4,\n",
       "  'pressure': 1020,\n",
       "  'humidity': 93},\n",
       " 'wind': {'speed': 8.05, 'deg': 240},\n",
       " 'rain': {'1h': 1.27},\n",
       " 'clouds': {'all': 90},\n",
       " 'dt': 1581364783,\n",
       " 'sys': {'type': 1,\n",
       "  'id': 4610,\n",
       "  'country': 'US',\n",
       "  'sunrise': 1581335815,\n",
       "  'sunset': 1581373415},\n",
       " 'timezone': -18000,\n",
       " 'id': 5128581,\n",
       " 'name': 'New York',\n",
       " 'cod': 200}"
      ]
     },
     "execution_count": 1,
     "metadata": {},
     "output_type": "execute_result"
    }
   ],
   "source": [
    "import requests\n",
    "openweathermap_url = \"http://api.openweathermap.org/data/2.5/weather\"\n",
    "\n",
    "parameters = {\n",
    "    'q'     : 'New York, NY, USA',\n",
    "    'units' : 'imperial',\n",
    "    'mode'  : 'json',\n",
    "    'appid' : ' ' # Must have own appid\n",
    "}\n",
    "resp = requests.get(openweathermap_url, params=parameters)\n",
    "data = resp.json()\n",
    "data"
   ]
  },
  {
   "cell_type": "code",
   "execution_count": 2,
   "metadata": {},
   "outputs": [
    {
     "name": "stdout",
     "output_type": "stream",
     "text": [
      "The current temp is 43.86\n"
     ]
    }
   ],
   "source": [
    "print('The current temp is ' + str(data['main']['temp']))"
   ]
  },
  {
   "cell_type": "code",
   "execution_count": 3,
   "metadata": {},
   "outputs": [
    {
     "name": "stdout",
     "output_type": "stream",
     "text": [
      "Weather description: moderate rain\n"
     ]
    }
   ],
   "source": [
    "print('Weather description: ' + str(data['weather'][0]['description']))"
   ]
  },
  {
   "cell_type": "code",
   "execution_count": 4,
   "metadata": {},
   "outputs": [
    {
     "data": {
      "text/plain": [
       "{'coord': {'lon': -73.99, 'lat': 40.73},\n",
       " 'weather': [{'id': 501,\n",
       "   'main': 'Rain',\n",
       "   'description': 'moderate rain',\n",
       "   'icon': '10d'}],\n",
       " 'base': 'stations',\n",
       " 'main': {'temp': 6.59,\n",
       "  'feels_like': 3.06,\n",
       "  'temp_min': 5,\n",
       "  'temp_max': 8,\n",
       "  'pressure': 1020,\n",
       "  'humidity': 93},\n",
       " 'wind': {'speed': 3.6, 'deg': 240},\n",
       " 'rain': {'1h': 1.27},\n",
       " 'clouds': {'all': 90},\n",
       " 'dt': 1581364856,\n",
       " 'sys': {'type': 1,\n",
       "  'id': 4610,\n",
       "  'country': 'US',\n",
       "  'sunrise': 1581335815,\n",
       "  'sunset': 1581373415},\n",
       " 'timezone': -18000,\n",
       " 'id': 5128581,\n",
       " 'name': 'New York',\n",
       " 'cod': 200}"
      ]
     },
     "execution_count": 4,
     "metadata": {},
     "output_type": "execute_result"
    }
   ],
   "source": [
    "parameters = {\n",
    "    'q'     : 'New York, NY, USA',\n",
    "    'units' : 'metric',\n",
    "    'mode'  : 'json',\n",
    "    'appid' : ' ' # Must have own appid\n",
    "}\n",
    "resp = requests.get(openweathermap_url, params=parameters)\n",
    "data = resp.json()\n",
    "data"
   ]
  },
  {
   "cell_type": "code",
   "execution_count": 5,
   "metadata": {},
   "outputs": [
    {
     "data": {
      "text/plain": [
       "{'coord': {'lon': -76.88, 'lat': 1.17},\n",
       " 'weather': [{'id': 500,\n",
       "   'main': 'Rain',\n",
       "   'description': 'light rain',\n",
       "   'icon': '10d'}],\n",
       " 'base': 'model',\n",
       " 'main': {'temp': 14.21,\n",
       "  'feels_like': 13.36,\n",
       "  'temp_min': 14.21,\n",
       "  'temp_max': 14.21,\n",
       "  'pressure': 1010,\n",
       "  'humidity': 85,\n",
       "  'sea_level': 1010,\n",
       "  'grnd_level': 754},\n",
       " 'wind': {'speed': 1.98, 'deg': 147},\n",
       " 'rain': {'3h': 0.38},\n",
       " 'clouds': {'all': 99},\n",
       " 'dt': 1581365016,\n",
       " 'sys': {'country': 'CO', 'sunrise': 1581333575, 'sunset': 1581377042},\n",
       " 'timezone': -18000,\n",
       " 'id': 3669881,\n",
       " 'name': 'San Francisco',\n",
       " 'cod': 200}"
      ]
     },
     "execution_count": 5,
     "metadata": {},
     "output_type": "execute_result"
    }
   ],
   "source": [
    "parameters = {\n",
    "    'q'     : 'San Francisco, CA, USA',\n",
    "    'units' : 'metric',\n",
    "    'mode'  : 'json',\n",
    "    'appid' : ' ' # Must have own appid\n",
    "}\n",
    "resp = requests.get(openweathermap_url, params=parameters)\n",
    "data = resp.json()\n",
    "data"
   ]
  },
  {
   "cell_type": "code",
   "execution_count": 6,
   "metadata": {},
   "outputs": [
    {
     "data": {
      "text/plain": [
       "{'coord': {'lon': -76.88, 'lat': 1.17},\n",
       " 'weather': [{'id': 500,\n",
       "   'main': 'Rain',\n",
       "   'description': 'light rain',\n",
       "   'icon': '10d'}],\n",
       " 'base': 'model',\n",
       " 'main': {'temp': 14.21,\n",
       "  'feels_like': 13.36,\n",
       "  'temp_min': 14.21,\n",
       "  'temp_max': 14.21,\n",
       "  'pressure': 1010,\n",
       "  'humidity': 85,\n",
       "  'sea_level': 1010,\n",
       "  'grnd_level': 754},\n",
       " 'wind': {'speed': 1.98, 'deg': 147},\n",
       " 'rain': {'3h': 0.38},\n",
       " 'clouds': {'all': 99},\n",
       " 'dt': 1581365017,\n",
       " 'sys': {'country': 'CO', 'sunrise': 1581333575, 'sunset': 1581377042},\n",
       " 'timezone': -18000,\n",
       " 'id': 3669881,\n",
       " 'name': 'San Francisco',\n",
       " 'cod': 200}"
      ]
     },
     "execution_count": 6,
     "metadata": {},
     "output_type": "execute_result"
    }
   ],
   "source": [
    "parameters = {\n",
    "    'lat'     : '1.17',\n",
    "    'lon'     : '-76.88',\n",
    "    'units' : 'metric',\n",
    "    'mode'  : 'json',\n",
    "    'appid' : ' ' # Must have own appid\n",
    "}\n",
    "resp = requests.get(openweathermap_url, params=parameters)\n",
    "data = resp.json()\n",
    "data"
   ]
  },
  {
   "cell_type": "code",
   "execution_count": 7,
   "metadata": {},
   "outputs": [
    {
     "data": {
      "text/plain": [
       "{'coord': {'lon': -122.08, 'lat': 37.42},\n",
       " 'weather': [{'id': 800,\n",
       "   'main': 'Clear',\n",
       "   'description': 'clear sky',\n",
       "   'icon': '01d'}],\n",
       " 'base': 'stations',\n",
       " 'main': {'temp': 18.99,\n",
       "  'feels_like': 14.5,\n",
       "  'temp_min': 15.56,\n",
       "  'temp_max': 21.67,\n",
       "  'pressure': 1018,\n",
       "  'humidity': 17},\n",
       " 'visibility': 16093,\n",
       " 'wind': {'speed': 2.45, 'deg': 14},\n",
       " 'clouds': {'all': 1},\n",
       " 'dt': 1581365018,\n",
       " 'sys': {'type': 1,\n",
       "  'id': 4322,\n",
       "  'country': 'US',\n",
       "  'sunrise': 1581347015,\n",
       "  'sunset': 1581385299},\n",
       " 'timezone': -28800,\n",
       " 'id': 5375480,\n",
       " 'name': 'Mountain View',\n",
       " 'cod': 200}"
      ]
     },
     "execution_count": 7,
     "metadata": {},
     "output_type": "execute_result"
    }
   ],
   "source": [
    "url = 'http://api.ipstack.com/check?access_key=294a3b9e1df7ba2fc86e40274859521a'\n",
    "resp = requests.get(url)\n",
    "data = resp.json()\n",
    "\n",
    "parameters = {\n",
    "    'lat'     : data[\"latitude\"],\n",
    "    'lon'     : data[\"longitude\"],\n",
    "    'units' : 'metric',\n",
    "    'mode'  : 'json',\n",
    "    'appid' : ' ' # Must have own appid\n",
    "}\n",
    "resp = requests.get(openweathermap_url, params=parameters)\n",
    "data = resp.json()\n",
    "data"
   ]
  },
  {
   "cell_type": "code",
   "execution_count": 8,
   "metadata": {},
   "outputs": [],
   "source": [
    "import json\n",
    "\n",
    "def getSentiment(text):\n",
    "    endpoint = \"https://gateway.watsonplatform.net/natural-language-understanding/api/v1/analyze\"\n",
    "    # Must have own username and password for TBM Watson API\n",
    "    username = \" \" \n",
    "    password =\" \"\n",
    "    parameters = {\n",
    "        'features': 'emotion,sentiment',\n",
    "        'version' :  '2019-07-12',\n",
    "        'text': text,\n",
    "        'language' : 'en',\n",
    "        # url = url_to_analyze, this is an alternative to sending the text\n",
    "    }\n",
    "\n",
    "    resp = requests.get(endpoint, params=parameters, auth=(username, password))\n",
    "    return resp.json()\n"
   ]
  },
  {
   "cell_type": "code",
   "execution_count": 9,
   "metadata": {},
   "outputs": [],
   "source": [
    "# We will analyze the text below using the IBM Watson API\n",
    "\n",
    "text = '''\n",
    "I say to you today, my friends, though, even though we face the difficulties of today and tomorrow, I still \n",
    "©2014 The Gilder Lehrman Institute of American History\n",
    "www.gilderlehrman.org\n",
    "have a dream. It is a dream deeply rooted in the American dream. I have a dream that one day this\n",
    "nation will rise up, live out the true meaning of its creed: “We hold these truths to be self-evident, that\n",
    "all men are created equal.”\n",
    "I have a dream that one day on the red hills of Georgia sons of former slaves and the sons of former\n",
    "slave-owners will be able to sit down together at the table of brotherhood. I have a dream that one day\n",
    "even the state of Mississippi, a state sweltering with the heat of injustice, sweltering with the heat of\n",
    "oppression, will be transformed into an oasis of freedom and justice.\n",
    "I have a dream that my four little children will one day live in a nation where they will not be judged by\n",
    "the color of their skin but by the content of their character. I have a dream . . . I have a dream that one\n",
    "day in Alabama, with its vicious racists, with its governor having his lips dripping with the words of\n",
    "interposition and nullification, one day right there in Alabama little black boys and black girls will be able\n",
    "to join hands with little white boys and white girls as sisters and brothers.\n",
    "I have a dream today . . .\n",
    "This will be the day when all of God’s children will be able to sing with new meaning. “My country, ’tis of\n",
    "thee, sweet land of liberty, of thee I sing. Land where my fathers died, land of the pilgrim’s pride, from\n",
    "every mountain side, let freedom ring.” And if America is to be a great nation, this must become true. So\n",
    "let freedom ring from the prodigious hilltops of New Hampshire. Let freedom ring from the mighty\n",
    "mountains of New York. Let freedom ring from the heightening Alleghenies of Pennsylvania. Let\n",
    "freedom ring from the snowcapped Rockies of Colorado. Let freedom ring from the curvaceous slopes of\n",
    "California.\n",
    "But not only that. Let freedom ring from Stone Mountain of Georgia. Let freedom ring from Lookout\n",
    "Mountain of Tennessee. Let freedom ring from every hill and molehill of Mississippi, from every\n",
    "mountain side. Let freedom ring . . .\n",
    "When we allow freedom to ring—when we let it ring from every city and every hamlet, from every state\n",
    "and every city, we will be able to speed up that day when all of God’s children, black men and white\n",
    "men, Jews and Gentiles, Protestants and Catholics, will be able to join hands and sing in the words of the\n",
    "old Negro spiritual, “Free at last, Free at last, Great God a-mighty, We are free at last.”\n",
    "'''"
   ]
  },
  {
   "cell_type": "code",
   "execution_count": 10,
   "metadata": {},
   "outputs": [
    {
     "data": {
      "text/plain": [
       "{'usage': {'text_units': 1, 'text_characters': 2594, 'features': 2},\n",
       " 'sentiment': {'document': {'score': 0.731566, 'label': 'positive'}},\n",
       " 'language': 'en',\n",
       " 'emotion': {'document': {'emotion': {'sadness': 0.4218,\n",
       "    'joy': 0.59039,\n",
       "    'fear': 0.083406,\n",
       "    'disgust': 0.048542,\n",
       "    'anger': 0.103113}}}}"
      ]
     },
     "execution_count": 10,
     "metadata": {},
     "output_type": "execute_result"
    }
   ],
   "source": [
    "data = getSentiment(text)\n",
    "data"
   ]
  },
  {
   "cell_type": "code",
   "execution_count": 11,
   "metadata": {},
   "outputs": [
    {
     "data": {
      "text/plain": [
       "{'score': 0.731566, 'label': 'positive'}"
      ]
     },
     "execution_count": 11,
     "metadata": {},
     "output_type": "execute_result"
    }
   ],
   "source": [
    "data['sentiment']['document']"
   ]
  },
  {
   "cell_type": "code",
   "execution_count": 12,
   "metadata": {},
   "outputs": [
    {
     "data": {
      "text/plain": [
       "{'sadness': 0.4218,\n",
       " 'joy': 0.59039,\n",
       " 'fear': 0.083406,\n",
       " 'disgust': 0.048542,\n",
       " 'anger': 0.103113}"
      ]
     },
     "execution_count": 12,
     "metadata": {},
     "output_type": "execute_result"
    }
   ],
   "source": [
    "data['emotion']['document']['emotion']"
   ]
  },
  {
   "cell_type": "markdown",
   "metadata": {},
   "source": [
    "This text is an excerpt taken from Martin Luther King's famous I Have a Dream speech, which I assumed would be largely positive and hopeful. This is somewhat shown in the analysis because the sentiment that was given to the speech is positive and because the score given is 0.731566 that means the speech is very strongly positive. This can also be seen from the emotion detected in the speech where the joy is given a 0.59039. One thing I didn't expect is there to be as high of a score given to sadness however, I guess it could be coming from the many times he talks about the hardships African Americans have faced and the joy is coming from the hope he is trying to inspire in the face of these hardships."
   ]
  },
  {
   "cell_type": "code",
   "execution_count": 13,
   "metadata": {},
   "outputs": [],
   "source": [
    "def processURL(url_to_analyze):\n",
    "    endpoint_watson = \"https://gateway.watsonplatform.net/natural-language-understanding/api/v1/analyze\"\n",
    "    params = {\n",
    "        'version': '2019-07-12',\n",
    "    }\n",
    "    headers = { \n",
    "        'Content-Type': 'application/json',\n",
    "    }\n",
    "    watson_options = {\n",
    "      \"url\": url_to_analyze,\n",
    "      \"features\": {\n",
    "        \"entities\": {\n",
    "          \"sentiment\": True,\n",
    "          \"emotion\": True,\n",
    "          \"limit\": 10\n",
    "        }\n",
    "      }\n",
    "    }\n",
    "    username = \"apikey\"\n",
    "    password = \"nZChfYjcoh8-dMED4bA_dkeoOVZsLwhoCVw-zw2g5TcM\"\n",
    "\n",
    "    resp = requests.post(endpoint_watson, \n",
    "                         data=json.dumps(watson_options), \n",
    "                         headers=headers, \n",
    "                         params=params, \n",
    "                         auth=(username, password) \n",
    "                        )\n",
    "    return resp.json()"
   ]
  },
  {
   "cell_type": "code",
   "execution_count": 43,
   "metadata": {},
   "outputs": [],
   "source": [
    "endpoint = \"https://newsapi.org/v2/top-headlines?country=us&category=business&apiKey= \" # Must have own apiKey\n",
    "resp = requests.get(endpoint)\n",
    "articles = resp.json()"
   ]
  },
  {
   "cell_type": "code",
   "execution_count": 45,
   "metadata": {},
   "outputs": [
    {
     "name": "stdout",
     "output_type": "stream",
     "text": [
      "http://techcrunch.com/2020/02/10/tesla-ramps-up-solar-tile-roofs-installations-in-u-s-eyes-china-and-europe-expansion/\n"
     ]
    }
   ],
   "source": [
    "url_to_analyze = articles['articles'][3]['url']"
   ]
  },
  {
   "cell_type": "code",
   "execution_count": null,
   "metadata": {},
   "outputs": [],
   "source": [
    "data = processURL(url_to_analyze)\n",
    "print(url_to_analyze)"
   ]
  },
  {
   "cell_type": "code",
   "execution_count": 46,
   "metadata": {},
   "outputs": [
    {
     "data": {
      "text/plain": [
       "{'type': 'Company',\n",
       " 'text': 'Tesla',\n",
       " 'sentiment': {'score': 0.73207, 'label': 'positive'},\n",
       " 'relevance': 0.964454,\n",
       " 'emotion': {'sadness': 0.285716,\n",
       "  'joy': 0.535247,\n",
       "  'fear': 0.071767,\n",
       "  'disgust': 0.049258,\n",
       "  'anger': 0.046916},\n",
       " 'disambiguation': {'subtype': ['AutomobileCompany', 'VentureFundedCompany'],\n",
       "  'name': 'Tesla_Motors',\n",
       "  'dbpedia_resource': 'http://dbpedia.org/resource/Tesla_Motors'},\n",
       " 'count': 7,\n",
       " 'confidence': 1}"
      ]
     },
     "execution_count": 46,
     "metadata": {},
     "output_type": "execute_result"
    }
   ],
   "source": [
    "data[\"entities\"][0]"
   ]
  },
  {
   "cell_type": "code",
   "execution_count": 47,
   "metadata": {},
   "outputs": [
    {
     "name": "stdout",
     "output_type": "stream",
     "text": [
      "Entity: Tesla Relevance: 0.964454 Associated Sentiment: 0.73207\n",
      "Entity: Musk Relevance: 0.537669 Associated Sentiment: 0.64055\n",
      "Entity: CEO Elon Musk Relevance: 0.528137 Associated Sentiment: 0.62164\n",
      "Entity: Buffalo Relevance: 0.362029 Associated Sentiment: 0\n",
      "Entity: San Francisco Bay Relevance: 0.290189 Associated Sentiment: 0.62164\n"
     ]
    },
    {
     "data": {
      "text/plain": [
       "[None, None, None, None, None]"
      ]
     },
     "execution_count": 47,
     "metadata": {},
     "output_type": "execute_result"
    }
   ],
   "source": [
    "def getEntities(data, threshold):\n",
    "    result = [print('Entity: ' + entity['text'] + ' Relevance: ' + str(entity['relevance']) + ' Associated Sentiment: ' + \n",
    "            str(entity['sentiment']['score']))  for entity in data[\"entities\"] if float(entity['relevance']) > threshold]\n",
    "    return result\n",
    "\n",
    "getEntities(data, 0.25)"
   ]
  },
  {
   "cell_type": "code",
   "execution_count": null,
   "metadata": {},
   "outputs": [],
   "source": []
  }
 ],
 "metadata": {
  "kernelspec": {
   "display_name": "Python 3",
   "language": "python",
   "name": "python3"
  },
  "language_info": {
   "codemirror_mode": {
    "name": "ipython",
    "version": 3
   },
   "file_extension": ".py",
   "mimetype": "text/x-python",
   "name": "python",
   "nbconvert_exporter": "python",
   "pygments_lexer": "ipython3",
   "version": "3.7.3"
  },
  "toc": {
   "nav_menu": {},
   "number_sections": true,
   "sideBar": true,
   "skip_h1_title": false,
   "title_cell": "Table of Contents",
   "title_sidebar": "Contents",
   "toc_cell": false,
   "toc_position": {},
   "toc_section_display": true,
   "toc_window_display": false
  }
 },
 "nbformat": 4,
 "nbformat_minor": 4
}
