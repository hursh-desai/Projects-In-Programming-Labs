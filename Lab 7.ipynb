{
 "cells": [
  {
   "cell_type": "code",
   "execution_count": 2,
   "metadata": {},
   "outputs": [],
   "source": [
    "%matplotlib inline\n",
    "import requests\n",
    "import pandas as pd\n",
    "import numpy as np"
   ]
  },
  {
   "cell_type": "code",
   "execution_count": 3,
   "metadata": {},
   "outputs": [],
   "source": [
    "url = 'https://data.cityofnewyork.us/resource/tg4x-b46p.json'\n",
    "results = requests.get(url).json()"
   ]
  },
  {
   "cell_type": "code",
   "execution_count": 10,
   "metadata": {},
   "outputs": [
    {
     "data": {
      "text/plain": [
       "1000"
      ]
     },
     "execution_count": 10,
     "metadata": {},
     "output_type": "execute_result"
    }
   ],
   "source": [
    "len(results)"
   ]
  },
  {
   "cell_type": "code",
   "execution_count": 11,
   "metadata": {},
   "outputs": [
    {
     "data": {
      "text/html": [
       "<div>\n",
       "<style scoped>\n",
       "    .dataframe tbody tr th:only-of-type {\n",
       "        vertical-align: middle;\n",
       "    }\n",
       "\n",
       "    .dataframe tbody tr th {\n",
       "        vertical-align: top;\n",
       "    }\n",
       "\n",
       "    .dataframe thead th {\n",
       "        text-align: right;\n",
       "    }\n",
       "</style>\n",
       "<table border=\"1\" class=\"dataframe\">\n",
       "  <thead>\n",
       "    <tr style=\"text-align: right;\">\n",
       "      <th></th>\n",
       "      <th>eventid</th>\n",
       "      <th>eventtype</th>\n",
       "      <th>startdatetime</th>\n",
       "      <th>enddatetime</th>\n",
       "      <th>enteredon</th>\n",
       "      <th>eventagency</th>\n",
       "      <th>parkingheld</th>\n",
       "      <th>borough</th>\n",
       "      <th>communityboard_s</th>\n",
       "      <th>policeprecinct_s</th>\n",
       "      <th>category</th>\n",
       "      <th>subcategoryname</th>\n",
       "      <th>country</th>\n",
       "      <th>zipcode_s</th>\n",
       "    </tr>\n",
       "  </thead>\n",
       "  <tbody>\n",
       "    <tr>\n",
       "      <th>0</th>\n",
       "      <td>524944</td>\n",
       "      <td>Theater Load in and Load Outs</td>\n",
       "      <td>2019-12-30T06:00:00.000</td>\n",
       "      <td>2020-01-01T07:00:00.000</td>\n",
       "      <td>2019-12-29T20:40:03.000</td>\n",
       "      <td>Mayor's Office of Film, Theatre &amp; Broadcasting</td>\n",
       "      <td>WEST   75 STREET between AMSTERDAM AVENUE and ...</td>\n",
       "      <td>Manhattan</td>\n",
       "      <td>7</td>\n",
       "      <td>20</td>\n",
       "      <td>Theater</td>\n",
       "      <td>Theater</td>\n",
       "      <td>United States of America</td>\n",
       "      <td>10023</td>\n",
       "    </tr>\n",
       "    <tr>\n",
       "      <th>1</th>\n",
       "      <td>524828</td>\n",
       "      <td>Shooting Permit</td>\n",
       "      <td>2019-12-29T21:00:00.000</td>\n",
       "      <td>2019-12-30T09:00:00.000</td>\n",
       "      <td>2019-12-26T20:31:03.000</td>\n",
       "      <td>Mayor's Office of Film, Theatre &amp; Broadcasting</td>\n",
       "      <td>CLINTON STREET between RIVINGTON STREET and ST...</td>\n",
       "      <td>Manhattan</td>\n",
       "      <td>3</td>\n",
       "      <td>7</td>\n",
       "      <td>Film</td>\n",
       "      <td>Feature</td>\n",
       "      <td>United States of America</td>\n",
       "      <td>10002</td>\n",
       "    </tr>\n",
       "    <tr>\n",
       "      <th>2</th>\n",
       "      <td>524774</td>\n",
       "      <td>Shooting Permit</td>\n",
       "      <td>2019-12-29T09:00:00.000</td>\n",
       "      <td>2019-12-29T19:00:00.000</td>\n",
       "      <td>2019-12-26T13:03:57.000</td>\n",
       "      <td>Mayor's Office of Film, Theatre &amp; Broadcasting</td>\n",
       "      <td>WEST   56 STREET between 10 AVENUE and 11 AVEN...</td>\n",
       "      <td>Manhattan</td>\n",
       "      <td>4</td>\n",
       "      <td>18</td>\n",
       "      <td>WEB</td>\n",
       "      <td>Not Applicable</td>\n",
       "      <td>United States of America</td>\n",
       "      <td>10019, 10036</td>\n",
       "    </tr>\n",
       "    <tr>\n",
       "      <th>3</th>\n",
       "      <td>524747</td>\n",
       "      <td>Shooting Permit</td>\n",
       "      <td>2019-12-28T09:00:00.000</td>\n",
       "      <td>2019-12-28T21:00:00.000</td>\n",
       "      <td>2019-12-25T22:47:37.000</td>\n",
       "      <td>Mayor's Office of Film, Theatre &amp; Broadcasting</td>\n",
       "      <td>EAST   23 STREET between 1 AVENUE and 2 AVENUE</td>\n",
       "      <td>Manhattan</td>\n",
       "      <td>6</td>\n",
       "      <td>13</td>\n",
       "      <td>Film</td>\n",
       "      <td>Feature</td>\n",
       "      <td>United States of America</td>\n",
       "      <td>10010</td>\n",
       "    </tr>\n",
       "    <tr>\n",
       "      <th>4</th>\n",
       "      <td>524626</td>\n",
       "      <td>Theater Load in and Load Outs</td>\n",
       "      <td>2019-12-28T07:00:00.000</td>\n",
       "      <td>2019-12-29T06:00:00.000</td>\n",
       "      <td>2019-12-23T10:43:56.000</td>\n",
       "      <td>Mayor's Office of Film, Theatre &amp; Broadcasting</td>\n",
       "      <td>AMSTERDAM AVENUE between WEST   75 STREET and ...</td>\n",
       "      <td>Manhattan</td>\n",
       "      <td>7</td>\n",
       "      <td>20</td>\n",
       "      <td>Theater</td>\n",
       "      <td>Theater</td>\n",
       "      <td>United States of America</td>\n",
       "      <td>10023</td>\n",
       "    </tr>\n",
       "  </tbody>\n",
       "</table>\n",
       "</div>"
      ],
      "text/plain": [
       "  eventid                      eventtype            startdatetime  \\\n",
       "0  524944  Theater Load in and Load Outs  2019-12-30T06:00:00.000   \n",
       "1  524828                Shooting Permit  2019-12-29T21:00:00.000   \n",
       "2  524774                Shooting Permit  2019-12-29T09:00:00.000   \n",
       "3  524747                Shooting Permit  2019-12-28T09:00:00.000   \n",
       "4  524626  Theater Load in and Load Outs  2019-12-28T07:00:00.000   \n",
       "\n",
       "               enddatetime                enteredon  \\\n",
       "0  2020-01-01T07:00:00.000  2019-12-29T20:40:03.000   \n",
       "1  2019-12-30T09:00:00.000  2019-12-26T20:31:03.000   \n",
       "2  2019-12-29T19:00:00.000  2019-12-26T13:03:57.000   \n",
       "3  2019-12-28T21:00:00.000  2019-12-25T22:47:37.000   \n",
       "4  2019-12-29T06:00:00.000  2019-12-23T10:43:56.000   \n",
       "\n",
       "                                      eventagency  \\\n",
       "0  Mayor's Office of Film, Theatre & Broadcasting   \n",
       "1  Mayor's Office of Film, Theatre & Broadcasting   \n",
       "2  Mayor's Office of Film, Theatre & Broadcasting   \n",
       "3  Mayor's Office of Film, Theatre & Broadcasting   \n",
       "4  Mayor's Office of Film, Theatre & Broadcasting   \n",
       "\n",
       "                                         parkingheld    borough  \\\n",
       "0  WEST   75 STREET between AMSTERDAM AVENUE and ...  Manhattan   \n",
       "1  CLINTON STREET between RIVINGTON STREET and ST...  Manhattan   \n",
       "2  WEST   56 STREET between 10 AVENUE and 11 AVEN...  Manhattan   \n",
       "3     EAST   23 STREET between 1 AVENUE and 2 AVENUE  Manhattan   \n",
       "4  AMSTERDAM AVENUE between WEST   75 STREET and ...  Manhattan   \n",
       "\n",
       "  communityboard_s policeprecinct_s category subcategoryname  \\\n",
       "0                7               20  Theater         Theater   \n",
       "1                3                7     Film         Feature   \n",
       "2                4               18      WEB  Not Applicable   \n",
       "3                6               13     Film         Feature   \n",
       "4                7               20  Theater         Theater   \n",
       "\n",
       "                    country     zipcode_s  \n",
       "0  United States of America         10023  \n",
       "1  United States of America         10002  \n",
       "2  United States of America  10019, 10036  \n",
       "3  United States of America         10010  \n",
       "4  United States of America         10023  "
      ]
     },
     "execution_count": 11,
     "metadata": {},
     "output_type": "execute_result"
    }
   ],
   "source": [
    "df = pd.DataFrame(results)\n",
    "df.head()"
   ]
  },
  {
   "cell_type": "code",
   "execution_count": 22,
   "metadata": {},
   "outputs": [
    {
     "data": {
      "text/plain": [
       "<matplotlib.axes._subplots.AxesSubplot at 0x7f10e7cc7be0>"
      ]
     },
     "execution_count": 22,
     "metadata": {},
     "output_type": "execute_result"
    },
    {
     "data": {
      "image/png": "[encoded data removed]",
      "text/plain": [
       "<Figure size 432x288 with 1 Axes>"
      ]
     },
     "metadata": {
      "needs_background": "light"
     },
     "output_type": "display_data"
    }
   ],
   "source": [
    "df[\"borough\"].value_counts().plot.bar(title='Number of Film Permits')"
   ]
  },
  {
   "cell_type": "code",
   "execution_count": null,
   "metadata": {},
   "outputs": [],
   "source": []
  }
 ],
 "metadata": {
  "kernelspec": {
   "display_name": "Python 3",
   "language": "python",
   "name": "python3"
  },
  "language_info": {
   "codemirror_mode": {
    "name": "ipython",
    "version": 3
   },
   "file_extension": ".py",
   "mimetype": "text/x-python",
   "name": "python",
   "nbconvert_exporter": "python",
   "pygments_lexer": "ipython3",
   "version": "3.6.9"
  },
  "toc": {
   "nav_menu": {},
   "number_sections": true,
   "sideBar": true,
   "skip_h1_title": false,
   "title_cell": "Table of Contents",
   "title_sidebar": "Contents",
   "toc_cell": false,
   "toc_position": {},
   "toc_section_display": true,
   "toc_window_display": false
  }
 },
 "nbformat": 4,
 "nbformat_minor": 4
}
